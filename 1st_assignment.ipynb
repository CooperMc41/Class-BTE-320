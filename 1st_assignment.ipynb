{
  "nbformat": 4,
  "nbformat_minor": 0,
  "metadata": {
    "colab": {
      "provenance": [],
      "authorship_tag": "ABX9TyOS/OpFmCQdkfaxn3mei1oU",
      "include_colab_link": true
    },
    "kernelspec": {
      "name": "python3",
      "display_name": "Python 3"
    },
    "language_info": {
      "name": "python"
    }
  },
  "cells": [
    {
      "cell_type": "markdown",
      "metadata": {
        "id": "view-in-github",
        "colab_type": "text"
      },
      "source": [
        "<a href=\"https://colab.research.google.com/github/CooperMc41/Class-BTE-320/blob/main/1st_assignment.ipynb\" target=\"_parent\"><img src=\"https://colab.research.google.com/assets/colab-badge.svg\" alt=\"Open In Colab\"/></a>"
      ]
    },
    {
      "cell_type": "code",
      "execution_count": null,
      "metadata": {
        "colab": {
          "base_uri": "https://localhost:8080/"
        },
        "id": "KOZ9dAyvpFab",
        "outputId": "1a184e17-caa3-4fbc-e760-aea26c73b597"
      },
      "outputs": [
        {
          "output_type": "stream",
          "name": "stdout",
          "text": [
            "Please provide radius: 5\n",
            "Please provide height: 10\n",
            "Please provide units: sq. ft\n",
            "Area =  471.0 sq. ft\n"
          ]
        },
        {
          "output_type": "execute_result",
          "data": {
            "text/plain": [
              "float"
            ]
          },
          "metadata": {},
          "execution_count": 15
        }
      ],
      "source": [
        "Pi = 3.14\n",
        "r = float(input(\"Please provide radius: \"))\n",
        "h = float(input(\"Please provide height: \"))\n",
        "units = str(input(\"Please provide units: \"))\n",
        "A = 2*Pi*r ** 2 + 2*Pi*r*h\n",
        "print(\"Area = \",A, units)\n",
        "type(A)"
      ]
    }
  ]
}