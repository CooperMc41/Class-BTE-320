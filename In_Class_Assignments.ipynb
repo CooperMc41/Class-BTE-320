{
  "nbformat": 4,
  "nbformat_minor": 0,
  "metadata": {
    "colab": {
      "provenance": [],
      "authorship_tag": "ABX9TyOl+6lD9JM+5M0aSkHC7+m/",
      "include_colab_link": true
    },
    "kernelspec": {
      "name": "python3",
      "display_name": "Python 3"
    },
    "language_info": {
      "name": "python"
    }
  },
  "cells": [
    {
      "cell_type": "markdown",
      "metadata": {
        "id": "view-in-github",
        "colab_type": "text"
      },
      "source": [
        "<a href=\"https://colab.research.google.com/github/CooperMc41/Class-BTE-320/blob/main/In_Class_Assignments.ipynb\" target=\"_parent\"><img src=\"https://colab.research.google.com/assets/colab-badge.svg\" alt=\"Open In Colab\"/></a>"
      ]
    },
    {
      "cell_type": "code",
      "execution_count": null,
      "metadata": {
        "colab": {
          "base_uri": "https://localhost:8080/"
        },
        "id": "KOZ9dAyvpFab",
        "outputId": "1a184e17-caa3-4fbc-e760-aea26c73b597"
      },
      "outputs": [
        {
          "output_type": "stream",
          "name": "stdout",
          "text": [
            "Please provide radius: 5\n",
            "Please provide height: 10\n",
            "Please provide units: sq. ft\n",
            "Area =  471.0 sq. ft\n"
          ]
        },
        {
          "output_type": "execute_result",
          "data": {
            "text/plain": [
              "float"
            ]
          },
          "metadata": {},
          "execution_count": 15
        }
      ],
      "source": [
        "Pi = 3.14\n",
        "r = float(input(\"Please provide radius: \"))\n",
        "h = float(input(\"Please provide height: \"))\n",
        "units = str(input(\"Please provide units: \"))\n",
        "A = 2*Pi*r ** 2 + 2*Pi*r*h\n",
        "print(\"Area = \",A, units)\n",
        "type(A)"
      ]
    },
    {
      "cell_type": "code",
      "source": [
        "Number1 = float(input(\"Please input your 1st number: \"))\n",
        "Number2 = float(input(\"Please input your second number: \"))\n",
        "Symbol = input(\"Please input the symbol: \")\n",
        "\n",
        "if Symbol == \"+\":\n",
        "  print(Number1 + Number2)\n",
        "elif Symbol == \"-\":\n",
        "  print(Number1 - Number2)\n",
        "elif Symbol == \"*\":\n",
        "  print(Number1 * Number2)\n",
        "elif Symbol == \"/\":\n",
        "  print(Number1 / Number2)\n",
        "elif Symbol == \"//\":\n",
        "  print(Number1 // Number2)\n",
        "elif Symbol == \"**\":\n",
        "  print(Number1 ** Number2)\n",
        "elif Symbol == \"%\":\n",
        "  print(Number1 % Number2)\n",
        "else:\n",
        "  print(\"Invalid symbol input.\")"
      ],
      "metadata": {
        "colab": {
          "base_uri": "https://localhost:8080/"
        },
        "id": "v7d-2rIur1qw",
        "outputId": "31e2e57b-52b0-4dd8-badf-06515bc9062c"
      },
      "execution_count": null,
      "outputs": [
        {
          "output_type": "stream",
          "name": "stdout",
          "text": [
            "Please input your 1st number: 20\n",
            "Please input your second number: 10\n",
            "Please input the symbol: )(\n",
            "Invalid symbol input.\n"
          ]
        }
      ]
    },
    {
      "cell_type": "markdown",
      "source": [],
      "metadata": {
        "id": "NRK9td9sZExT"
      }
    },
    {
      "cell_type": "code",
      "source": [
        "print(\"Welcome to the Parking Garage. No Cars over 2.5 meters tall.\")\n",
        "print(\"Please input your credit card. There is a minimum fee of $10.\")\n",
        "print(\"These are the charges you may incur: \")\n",
        "\n",
        "for Hours in range(1, 9):\n",
        "  charge = 5 + 2.5 * Hours\n",
        "  if charge < 10:\n",
        "    charge = 10.0\n",
        "  elif charge > 20:\n",
        "    charge = 20.0\n",
        "  print(Hours,\"Hrs.\", \"$\",charge)\n",
        "\n",
        "Hours = float(input(\"Please input amount of ours parked: \"))\n",
        "\n",
        "charge = 5 + 2.5 * Hours\n",
        "minFee = 10\n",
        "maxFee = 20\n",
        "\n",
        "if Hours >= 7:\n",
        "  print(\"Your fee is $\",maxFee)\n",
        "elif Hours >= 2:\n",
        "  print(\"Your fee is $\",charge)\n",
        "elif Hours == 1:\n",
        "  print(\"Your fee is $\",minFee)"
      ],
      "metadata": {
        "id": "vy7kC41QZYiE",
        "colab": {
          "base_uri": "https://localhost:8080/"
        },
        "outputId": "2a840cf7-f3ed-45f2-c29d-69dc0d381816"
      },
      "execution_count": null,
      "outputs": [
        {
          "output_type": "stream",
          "name": "stdout",
          "text": [
            "Welcome to the Parking Garage. No Cars over 2.5 meters tall.\n",
            "Please input your credit card. There is a minimum fee of $10.\n",
            "These are the charges you may incur: \n",
            "1 Hrs. $ 10.0\n",
            "2 Hrs. $ 10.0\n",
            "3 Hrs. $ 12.5\n",
            "4 Hrs. $ 15.0\n",
            "5 Hrs. $ 17.5\n",
            "6 Hrs. $ 20.0\n",
            "7 Hrs. $ 20.0\n",
            "8 Hrs. $ 20.0\n",
            "Please input amount of ours parked: 10\n",
            "Your fee is $ 20\n"
          ]
        }
      ]
    },
    {
      "cell_type": "code",
      "source": [
        "print(\"Hello. These will be the profit numbers given the amount of advertising spending we are doing.\")\n",
        "print(\"Ad$\", \"Profit\")\n",
        "for Ad in range(0, 225, 25):\n",
        "  prOfit = (20 + 2 * round(Ad ** 0.5))*10 -200 - Ad\n",
        "  print(\"$\",Ad, \"$\",prOfit)"
      ],
      "metadata": {
        "colab": {
          "base_uri": "https://localhost:8080/"
        },
        "id": "IHsaWDZtKpHd",
        "outputId": "fefebb72-27d2-486b-ef2a-b34e0f43d477"
      },
      "execution_count": null,
      "outputs": [
        {
          "output_type": "stream",
          "name": "stdout",
          "text": [
            "Hello. These will be the profit numbers given the amount of advertising spending we are doing.\n",
            "Ad$ Profit\n",
            "$ 0 $ 0\n",
            "$ 25 $ 75\n",
            "$ 50 $ 90\n",
            "$ 75 $ 105\n",
            "$ 100 $ 100\n",
            "$ 125 $ 95\n",
            "$ 150 $ 90\n",
            "$ 175 $ 85\n",
            "$ 200 $ 80\n"
          ]
        }
      ]
    },
    {
      "cell_type": "code",
      "source": [
        "gaMe = input(\"This game is rock, paper, scissors. Would you like to play: \")\n",
        "\n",
        "while gaMe == \"Yes\":\n",
        "  plaYer1 = input(\"Please input your move, Player 1: \")\n",
        "  plaYer2 = input(\"Please input your move, Player 2: \")\n",
        "\n",
        "  if plaYer1 == plaYer2:\n",
        "    print(\"Its a tie!\")\n",
        "  elif plaYer1 == \"Rock\" and plaYer2 == \"Scissors\" or plaYer1 == \"Scissors\" and plaYer2 == \"Paper\" or plaYer1 == \"Paper\" and plaYer2 == \"Rock\":\n",
        "    print(\"Player 1 wins!\")\n",
        "  else:\n",
        "    print(\"Player 2 wins!\")\n",
        "\n",
        "  gaMe = input(\"This game is rock, paper, scissors. Would you like to play: \")\n",
        "print(\"Goodbye!\")"
      ],
      "metadata": {
        "colab": {
          "base_uri": "https://localhost:8080/",
          "height": 382
        },
        "id": "Dp1eMaFDOxu3",
        "outputId": "9600e0aa-527d-4058-e8ce-bfdbd94ecf26"
      },
      "execution_count": null,
      "outputs": [
        {
          "name": "stdout",
          "output_type": "stream",
          "text": [
            "This game is rock, paper, scissors. Would you like to play: yes\n"
          ]
        },
        {
          "output_type": "error",
          "ename": "KeyboardInterrupt",
          "evalue": "Interrupted by user",
          "traceback": [
            "\u001b[0;31m---------------------------------------------------------------------------\u001b[0m",
            "\u001b[0;31mKeyboardInterrupt\u001b[0m                         Traceback (most recent call last)",
            "\u001b[0;32m<ipython-input-29-1eea25ea40c2>\u001b[0m in \u001b[0;36m<cell line: 0>\u001b[0;34m()\u001b[0m\n\u001b[1;32m      2\u001b[0m \u001b[0;34m\u001b[0m\u001b[0m\n\u001b[1;32m      3\u001b[0m \u001b[0;32mwhile\u001b[0m \u001b[0mgaMe\u001b[0m \u001b[0;34m==\u001b[0m \u001b[0;34m\"Yes\"\u001b[0m \u001b[0;32mor\u001b[0m \u001b[0;34m\"yes\"\u001b[0m\u001b[0;34m:\u001b[0m\u001b[0;34m\u001b[0m\u001b[0;34m\u001b[0m\u001b[0m\n\u001b[0;32m----> 4\u001b[0;31m   \u001b[0mplaYer1\u001b[0m \u001b[0;34m=\u001b[0m \u001b[0minput\u001b[0m\u001b[0;34m(\u001b[0m\u001b[0;34m\"Please input your move, Player 1: \"\u001b[0m\u001b[0;34m)\u001b[0m\u001b[0;34m\u001b[0m\u001b[0;34m\u001b[0m\u001b[0m\n\u001b[0m\u001b[1;32m      5\u001b[0m   \u001b[0mplaYer2\u001b[0m \u001b[0;34m=\u001b[0m \u001b[0minput\u001b[0m\u001b[0;34m(\u001b[0m\u001b[0;34m\"Please input your move, Player 2: \"\u001b[0m\u001b[0;34m)\u001b[0m\u001b[0;34m\u001b[0m\u001b[0;34m\u001b[0m\u001b[0m\n\u001b[1;32m      6\u001b[0m \u001b[0;34m\u001b[0m\u001b[0m\n",
            "\u001b[0;32m/usr/local/lib/python3.11/dist-packages/ipykernel/kernelbase.py\u001b[0m in \u001b[0;36mraw_input\u001b[0;34m(self, prompt)\u001b[0m\n\u001b[1;32m    849\u001b[0m                 \u001b[0;34m\"raw_input was called, but this frontend does not support input requests.\"\u001b[0m\u001b[0;34m\u001b[0m\u001b[0;34m\u001b[0m\u001b[0m\n\u001b[1;32m    850\u001b[0m             )\n\u001b[0;32m--> 851\u001b[0;31m         return self._input_request(str(prompt),\n\u001b[0m\u001b[1;32m    852\u001b[0m             \u001b[0mself\u001b[0m\u001b[0;34m.\u001b[0m\u001b[0m_parent_ident\u001b[0m\u001b[0;34m,\u001b[0m\u001b[0;34m\u001b[0m\u001b[0;34m\u001b[0m\u001b[0m\n\u001b[1;32m    853\u001b[0m             \u001b[0mself\u001b[0m\u001b[0;34m.\u001b[0m\u001b[0m_parent_header\u001b[0m\u001b[0;34m,\u001b[0m\u001b[0;34m\u001b[0m\u001b[0;34m\u001b[0m\u001b[0m\n",
            "\u001b[0;32m/usr/local/lib/python3.11/dist-packages/ipykernel/kernelbase.py\u001b[0m in \u001b[0;36m_input_request\u001b[0;34m(self, prompt, ident, parent, password)\u001b[0m\n\u001b[1;32m    893\u001b[0m             \u001b[0;32mexcept\u001b[0m \u001b[0mKeyboardInterrupt\u001b[0m\u001b[0;34m:\u001b[0m\u001b[0;34m\u001b[0m\u001b[0;34m\u001b[0m\u001b[0m\n\u001b[1;32m    894\u001b[0m                 \u001b[0;31m# re-raise KeyboardInterrupt, to truncate traceback\u001b[0m\u001b[0;34m\u001b[0m\u001b[0;34m\u001b[0m\u001b[0m\n\u001b[0;32m--> 895\u001b[0;31m                 \u001b[0;32mraise\u001b[0m \u001b[0mKeyboardInterrupt\u001b[0m\u001b[0;34m(\u001b[0m\u001b[0;34m\"Interrupted by user\"\u001b[0m\u001b[0;34m)\u001b[0m \u001b[0;32mfrom\u001b[0m \u001b[0;32mNone\u001b[0m\u001b[0;34m\u001b[0m\u001b[0;34m\u001b[0m\u001b[0m\n\u001b[0m\u001b[1;32m    896\u001b[0m             \u001b[0;32mexcept\u001b[0m \u001b[0mException\u001b[0m \u001b[0;32mas\u001b[0m \u001b[0me\u001b[0m\u001b[0;34m:\u001b[0m\u001b[0;34m\u001b[0m\u001b[0;34m\u001b[0m\u001b[0m\n\u001b[1;32m    897\u001b[0m                 \u001b[0mself\u001b[0m\u001b[0;34m.\u001b[0m\u001b[0mlog\u001b[0m\u001b[0;34m.\u001b[0m\u001b[0mwarning\u001b[0m\u001b[0;34m(\u001b[0m\u001b[0;34m\"Invalid Message:\"\u001b[0m\u001b[0;34m,\u001b[0m \u001b[0mexc_info\u001b[0m\u001b[0;34m=\u001b[0m\u001b[0;32mTrue\u001b[0m\u001b[0;34m)\u001b[0m\u001b[0;34m\u001b[0m\u001b[0;34m\u001b[0m\u001b[0m\n",
            "\u001b[0;31mKeyboardInterrupt\u001b[0m: Interrupted by user"
          ]
        }
      ]
    },
    {
      "cell_type": "code",
      "source": [
        "import random\n",
        "\n",
        "gaMe = input(\"This game is rock, paper, scissors. Would you like to play: \").capitalize()\n",
        "\n",
        "while gaMe == \"Yes\":\n",
        "  plaYer1 = input(\"Please input your move, Player 1: \").capitalize()\n",
        "  plaYer2 = random.choice([\"Rock\", \"Paper\", \"Scissors\"]).capitalize()\n",
        "\n",
        "  if plaYer1 == plaYer2:\n",
        "    print(\"Its a tie!\")\n",
        "  elif plaYer1 == \"Rock\" and plaYer2 == \"Scissors\" or plaYer1 == \"Scissors\" and plaYer2 == \"Paper\" or plaYer1 == \"Paper\" and plaYer2 == \"Rock\":\n",
        "    print(\"Player 1 wins!\")\n",
        "  else:\n",
        "    print(\"Player 2 wins!\")\n",
        "\n",
        "  gaMe = input(\"This game is rock, paper, scissors. Would you like to play: \").capitalize()\n",
        "print(\"Goodbye!\")"
      ],
      "metadata": {
        "colab": {
          "base_uri": "https://localhost:8080/"
        },
        "id": "JaQ5xu_bRTf8",
        "outputId": "c8ae9168-c5a5-475a-ccb5-ca2e9408dcc1"
      },
      "execution_count": null,
      "outputs": [
        {
          "metadata": {
            "tags": null
          },
          "name": "stdout",
          "output_type": "stream",
          "text": [
            "Player 1 wins!\n"
          ]
        }
      ]
    },
    {
      "cell_type": "code",
      "source": [
        "List = []\n",
        "ListMaker = float(input(\"Please input a number: \"))\n",
        "\n",
        "while ListMaker != 0.0:\n",
        "  List.append(ListMaker)\n",
        "\n",
        "  ListMaker = float(input(\"Please input a number: \"))\n",
        "\n",
        "List.sort(reverse=True)\n",
        "print(\"List making is over!\")\n",
        "print(List)"
      ],
      "metadata": {
        "colab": {
          "base_uri": "https://localhost:8080/"
        },
        "id": "bGiBQjzlPBGO",
        "outputId": "850337e0-0786-4a5b-aed8-47d19e2f2d61"
      },
      "execution_count": null,
      "outputs": [
        {
          "output_type": "stream",
          "name": "stdout",
          "text": [
            "Please input a number: 5\n",
            "Please input a number: 6\n",
            "Please input a number: 2\n",
            "Please input a number: 7\n",
            "Please input a number: 1\n",
            "Please input a number: 0\n",
            "List making is over!\n",
            "[7.0, 6.0, 5.0, 2.0, 1.0]\n"
          ]
        }
      ]
    },
    {
      "cell_type": "code",
      "source": [
        "months = {}\n",
        "\n",
        "names = [\"Jan\", \"Feb\", \"Mar\", \"Apr\", \"May\", \"Jun\", \"Jul\", \"Aug\", \"Sep\", \"Oct\", \"Nov\", \"Dec\"]\n",
        "numbers = [1, 2, 3, 4, 5, 6, 7, 8, 9, 10, 11, 12]\n",
        "\n",
        "for key in range(len(numbers)):\n",
        "  months[numbers[key]] = names[key]\n",
        "\n",
        "print(months)"
      ],
      "metadata": {
        "colab": {
          "base_uri": "https://localhost:8080/"
        },
        "id": "2fZm9r5sxj8Q",
        "outputId": "8d6bb618-14ae-4659-dc0f-20da9897f541"
      },
      "execution_count": null,
      "outputs": [
        {
          "output_type": "stream",
          "name": "stdout",
          "text": [
            "{1: 'Jan', 2: 'Feb', 3: 'Mar', 4: 'Apr', 5: 'May', 6: 'Jun', 7: 'Jul', 8: 'Aug', 9: 'Sep', 10: 'Oct', 11: 'Nov', 12: 'Dec'}\n"
          ]
        }
      ]
    },
    {
      "cell_type": "code",
      "source": [
        "months = {}\n",
        "\n",
        "names = [\"Jan\", \"Feb\", \"Mar\", \"Apr\", \"May\", \"Jun\", \"Jul\", \"Aug\", \"Sep\", \"Oct\", \"Nov\", \"Dec\"]\n",
        "numbers = [1, 2, 3, 4, 5, 6, 7, 8, 9, 10, 11, 12]\n",
        "\n",
        "for num in numbers:\n",
        "  months[num] = names[num - 1]\n",
        "\n",
        "print(months)"
      ],
      "metadata": {
        "colab": {
          "base_uri": "https://localhost:8080/"
        },
        "id": "w8y_mLaS3BmA",
        "outputId": "0864326b-d091-4b43-d82b-df4c22e1c958"
      },
      "execution_count": null,
      "outputs": [
        {
          "output_type": "stream",
          "name": "stdout",
          "text": [
            "{1: 'Jan', 2: 'Feb', 3: 'Mar', 4: 'Apr', 5: 'May', 6: 'Jun', 7: 'Jul', 8: 'Aug', 9: 'Sep', 10: 'Oct', 11: 'Nov', 12: 'Dec'}\n"
          ]
        }
      ]
    },
    {
      "cell_type": "code",
      "source": [
        "counts = {}\n",
        "\n",
        "\n",
        "while len(counts) < 5:\n",
        "  name = input(\"Please input a name: \")\n",
        "\n",
        "  if name not in counts:\n",
        "    counts[name] = 1\n",
        "\n",
        "  else:\n",
        "    counts[name] += 1\n",
        "\n",
        "\n",
        "print(counts)\n"
      ],
      "metadata": {
        "colab": {
          "base_uri": "https://localhost:8080/"
        },
        "id": "3nfeFwR63rDK",
        "outputId": "9361b90d-88f1-46b1-beed-234a3d4f1cda"
      },
      "execution_count": null,
      "outputs": [
        {
          "output_type": "stream",
          "name": "stdout",
          "text": [
            "Please input a name: a\n",
            "Please input a name: a\n",
            "Please input a name: b\n",
            "Please input a name: c\n",
            "Please input a name: d\n",
            "Please input a name: e\n",
            "{'a': 2, 'b': 1, 'c': 1, 'd': 1, 'e': 1}\n"
          ]
        }
      ]
    },
    {
      "cell_type": "code",
      "source": [
        "def calcFee(input1):\n",
        "  output = 5 + (input1 * 2.5)\n",
        "  if output < 10:\n",
        "    output = 10\n",
        "  elif output >= 20:\n",
        "    output = 20\n",
        "  return output\n",
        "\n",
        "Hours = input(\"Please input how many hours you parked: \")\n",
        "input1 = float(Hours)\n",
        "\n",
        "money = calcFee(input1)\n",
        "print(\"Your fee is $\",money)\n",
        "#order of steps is line 1, lines 9-12, lines 2-7, then line 13"
      ],
      "metadata": {
        "colab": {
          "base_uri": "https://localhost:8080/"
        },
        "id": "vH7DtLjOmbbO",
        "outputId": "372db244-d488-493e-eb2e-dbbe01174b84"
      },
      "execution_count": null,
      "outputs": [
        {
          "output_type": "stream",
          "name": "stdout",
          "text": [
            "Please input how many hours you parked: 5\n",
            "Your fee is $ 17.5\n"
          ]
        }
      ]
    },
    {
      "cell_type": "code",
      "source": [
        "def revErse(n):\n",
        "  if len(n) <= 1:\n",
        "    return n\n",
        "  else:\n",
        "    return n[-1] + revErse(n[:-1])\n",
        "\n",
        "revErse(\"Hello\")"
      ],
      "metadata": {
        "colab": {
          "base_uri": "https://localhost:8080/",
          "height": 35
        },
        "id": "s-DEztTj4KHb",
        "outputId": "88b22280-2564-4ae1-90f0-5fb92a4bde40"
      },
      "execution_count": null,
      "outputs": [
        {
          "output_type": "execute_result",
          "data": {
            "text/plain": [
              "'olleH'"
            ],
            "application/vnd.google.colaboratory.intrinsic+json": {
              "type": "string"
            }
          },
          "metadata": {},
          "execution_count": 1
        }
      ]
    },
    {
      "cell_type": "code",
      "source": [
        "print(\"Welcome! Please note that when you park here, we round to the nearest hour.\")\n",
        "print(\"Please input your credit card. There is a minimum fee of $10.\")\n",
        "\n",
        "def getParkingHours():\n",
        "  Hours = int(input(\"Please input how many hours you parked: \"))\n",
        "  assert Hours >= 0, \"Hours must be non negative...\"\n",
        "  return Hours\n",
        "\n",
        "def calcFee(HoursParked):\n",
        "  try:\n",
        "    output = 6 + (HoursParked * 2.5)\n",
        "    if output < 10:\n",
        "      output = 10\n",
        "    elif output >= 20:\n",
        "      output = 20\n",
        "    return output\n",
        "  except:\n",
        "    print(\"Invalid input.\")\n",
        "\n",
        "HoursParked = getParkingHours()\n",
        "\n",
        "money = calcFee(HoursParked)\n",
        "print(\"Your fee is $\",money)\n",
        "#order of steps is line 1, lines 9-12, lines 2-7, then line 13"
      ],
      "metadata": {
        "colab": {
          "base_uri": "https://localhost:8080/"
        },
        "id": "HiQD7S1-T6iW",
        "outputId": "3beca3e5-a87c-4a50-9022-dcc9047b3521"
      },
      "execution_count": null,
      "outputs": [
        {
          "output_type": "stream",
          "name": "stdout",
          "text": [
            "Welcome! Please note that when you park here, we round to the nearest hour.\n",
            "Please input your credit card. There is a minimum fee of $10.\n",
            "Please input how many hours you parked: 5\n",
            "Your fee is $ 18.5\n"
          ]
        }
      ]
    },
    {
      "cell_type": "code",
      "source": [
        "def getValues(n):\n",
        "  try:\n",
        "    L = []\n",
        "\n",
        "    for i in range(n):\n",
        "      num = input(\"Enter weight: \")\n",
        "      L.append(num)\n",
        "    return L\n",
        "  except:\n",
        "    print(\"Invalid input.\")\n",
        "\n",
        "\n",
        "def calcAverage(aList):\n",
        "  try:\n",
        "    print(\"The average weight is: \", sum(aList[2:]) / len(aList[2:]), \"lbs.\")\n",
        "  except:\n",
        "    print(\"You put in an invalid input originally; try again.\")\n",
        "\n",
        "if __name__ == \"__main__\":\n",
        "  try:\n",
        "    num_values = input(\"How many values do you want to enter? \")\n",
        "    aList = getValues(num_values)\n",
        "    calcAverage(aList)\n",
        "  except:\n",
        "    print(\"\")"
      ],
      "metadata": {
        "colab": {
          "base_uri": "https://localhost:8080/"
        },
        "id": "i1uvak5BWdkn",
        "outputId": "4afdae12-cba1-4a3f-898d-afcc68e74617"
      },
      "execution_count": null,
      "outputs": [
        {
          "output_type": "stream",
          "name": "stdout",
          "text": [
            "How many values do you want to enter? ten\n",
            "Invalid input.\n",
            "You put in an invalid input originally; try again.\n"
          ]
        }
      ]
    },
    {
      "cell_type": "code",
      "source": [
        "class Greeting:\n",
        "  def __init__(self, first, last):\n",
        "    self.first = first\n",
        "    self.last = last\n",
        "\n",
        "  def inClass(self):\n",
        "    self.inClass == True\n",
        "    print(\"Someone has arrived\")\n",
        "\n",
        "  def display(self, formal=False):\n",
        "    if formal == True:\n",
        "      print(\"Hello\", self.first, self.last)\n",
        "    elif formal == False:\n",
        "      print(\"Hi\", self.first)\n",
        "\n",
        "\n",
        "  def __str__(self):\n",
        "    return f'{self.first}, {self.last}'\n",
        "\n",
        "  __repr__ = __str__\n",
        "\n",
        "p = Greeting(\"Donald\", \"Becker\")"
      ],
      "metadata": {
        "id": "KGS8ZiKeYDRr"
      },
      "execution_count": 46,
      "outputs": []
    },
    {
      "cell_type": "code",
      "source": [
        "p.inClass()\n",
        "p.display(formal=False)\n",
        "print(p)"
      ],
      "metadata": {
        "id": "anwUezL3YzQH",
        "colab": {
          "base_uri": "https://localhost:8080/"
        },
        "outputId": "81911210-b53f-4a78-bc96-c2bdd5086df5"
      },
      "execution_count": 47,
      "outputs": [
        {
          "output_type": "stream",
          "name": "stdout",
          "text": [
            "Someone has arrived\n",
            "Hi Donald\n",
            "Donald, Becker\n"
          ]
        }
      ]
    }
  ]
}