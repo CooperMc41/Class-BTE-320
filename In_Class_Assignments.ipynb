{
  "nbformat": 4,
  "nbformat_minor": 0,
  "metadata": {
    "colab": {
      "provenance": [],
      "authorship_tag": "ABX9TyPM6cDF4AxFG563AbwIBB5S",
      "include_colab_link": true
    },
    "kernelspec": {
      "name": "python3",
      "display_name": "Python 3"
    },
    "language_info": {
      "name": "python"
    }
  },
  "cells": [
    {
      "cell_type": "markdown",
      "metadata": {
        "id": "view-in-github",
        "colab_type": "text"
      },
      "source": [
        "<a href=\"https://colab.research.google.com/github/CooperMc41/Class-BTE-320/blob/main/In_Class_Assignments.ipynb\" target=\"_parent\"><img src=\"https://colab.research.google.com/assets/colab-badge.svg\" alt=\"Open In Colab\"/></a>"
      ]
    },
    {
      "cell_type": "code",
      "execution_count": null,
      "metadata": {
        "colab": {
          "base_uri": "https://localhost:8080/"
        },
        "id": "KOZ9dAyvpFab",
        "outputId": "1a184e17-caa3-4fbc-e760-aea26c73b597"
      },
      "outputs": [
        {
          "output_type": "stream",
          "name": "stdout",
          "text": [
            "Please provide radius: 5\n",
            "Please provide height: 10\n",
            "Please provide units: sq. ft\n",
            "Area =  471.0 sq. ft\n"
          ]
        },
        {
          "output_type": "execute_result",
          "data": {
            "text/plain": [
              "float"
            ]
          },
          "metadata": {},
          "execution_count": 15
        }
      ],
      "source": [
        "Pi = 3.14\n",
        "r = float(input(\"Please provide radius: \"))\n",
        "h = float(input(\"Please provide height: \"))\n",
        "units = str(input(\"Please provide units: \"))\n",
        "A = 2*Pi*r ** 2 + 2*Pi*r*h\n",
        "print(\"Area = \",A, units)\n",
        "type(A)"
      ]
    },
    {
      "cell_type": "code",
      "source": [
        "Number1 = float(input(\"Please input your 1st number: \"))\n",
        "Number2 = float(input(\"Please input your second number: \"))\n",
        "Symbol = input(\"Please input the symbol: \")\n",
        "\n",
        "if Symbol == \"+\":\n",
        "  print(Number1 + Number2)\n",
        "elif Symbol == \"-\":\n",
        "  print(Number1 - Number2)\n",
        "elif Symbol == \"*\":\n",
        "  print(Number1 * Number2)\n",
        "elif Symbol == \"/\":\n",
        "  print(Number1 / Number2)\n",
        "elif Symbol == \"//\":\n",
        "  print(Number1 // Number2)\n",
        "elif Symbol == \"**\":\n",
        "  print(Number1 ** Number2)\n",
        "elif Symbol == \"%\":\n",
        "  print(Number1 % Number2)\n",
        "else:\n",
        "  print(\"Invalid symbol input.\")"
      ],
      "metadata": {
        "colab": {
          "base_uri": "https://localhost:8080/"
        },
        "id": "v7d-2rIur1qw",
        "outputId": "31e2e57b-52b0-4dd8-badf-06515bc9062c"
      },
      "execution_count": null,
      "outputs": [
        {
          "output_type": "stream",
          "name": "stdout",
          "text": [
            "Please input your 1st number: 20\n",
            "Please input your second number: 10\n",
            "Please input the symbol: )(\n",
            "Invalid symbol input.\n"
          ]
        }
      ]
    },
    {
      "cell_type": "markdown",
      "source": [],
      "metadata": {
        "id": "NRK9td9sZExT"
      }
    },
    {
      "cell_type": "code",
      "source": [
        "\n",
        "print(\"Welcome to the Parking Garage. No Cars over 2.5 meters tall.\")\n",
        "print(\"Please input your credit card. There is a minimum fee of $10.\")\n",
        "print(\"These are the charges you may incur: \")\n",
        "\n",
        "for Hours in range(1, 9):\n",
        "  charge = 5 + 2.5 * Hours\n",
        "  if charge < 10:\n",
        "    charge = 10.0\n",
        "  elif charge > 20:\n",
        "    charge = 20.0\n",
        "  print(Hours,\"Hrs.\", \"$\",charge)\n",
        "\n",
        "Hours = float(input(\"Please input amount of ours parked: \"))\n",
        "\n",
        "charge = 5 + 2.5 * Hours\n",
        "minFee = 10\n",
        "maxFee = 20\n",
        "\n",
        "if Hours >= 7:\n",
        "  print(\"Your fee is $\",maxFee)\n",
        "elif Hours >= 2:\n",
        "  print(\"Your fee is $\",charge)\n",
        "elif Hours == 1:\n",
        "  print(\"Your fee is $\",minFee)"
      ],
      "metadata": {
        "colab": {
          "base_uri": "https://localhost:8080/"
        },
        "id": "vy7kC41QZYiE",
        "outputId": "a35b82f2-e64f-4be7-9750-08893c1a5f0b"
      },
      "execution_count": 18,
      "outputs": [
        {
          "output_type": "stream",
          "name": "stdout",
          "text": [
            "Welcome to the Parking Garage. No Cars over 2.5 meters tall.\n",
            "Please input your credit card. There is a minimum fee of $10.\n",
            "These are the charges you may incur: \n",
            "1 Hrs. $ 10.0\n",
            "2 Hrs. $ 10.0\n",
            "3 Hrs. $ 12.5\n",
            "4 Hrs. $ 15.0\n",
            "5 Hrs. $ 17.5\n",
            "6 Hrs. $ 20.0\n",
            "7 Hrs. $ 20.0\n",
            "8 Hrs. $ 20.0\n",
            "Please input amount of ours parked: 5\n",
            "Your fee is $ 17.5\n"
          ]
        }
      ]
    },
    {
      "cell_type": "code",
      "source": [
        "print(\"Hello. These will be the profit numbers given the amount of advertising spending we are doing.\")\n",
        "print(\"Ad$\", \"Profit\")\n",
        "for Ad in range(0, 225, 25):\n",
        "  prOfit = (20 + 2 * round(Ad ** 0.5))*10 -200 - Ad\n",
        "  print(\"$\",Ad, \"$\",prOfit)"
      ],
      "metadata": {
        "id": "FHoTF3CJdW-w",
        "outputId": "8f83e7c0-e1fe-45b3-d5d8-7cf9d7f44b9c",
        "colab": {
          "base_uri": "https://localhost:8080/"
        }
      },
      "execution_count": 34,
      "outputs": [
        {
          "output_type": "stream",
          "name": "stdout",
          "text": [
            "Hello. These will be the profit numbers given the amount of advertising spending we are doing.\n",
            "Ad$ Profit\n",
            "$ 0 $ 0\n",
            "$ 25 $ 75\n",
            "$ 50 $ 90\n",
            "$ 75 $ 105\n",
            "$ 100 $ 100\n",
            "$ 125 $ 95\n",
            "$ 150 $ 90\n",
            "$ 175 $ 85\n",
            "$ 200 $ 80\n"
          ]
        }
      ]
    }
  ]
}