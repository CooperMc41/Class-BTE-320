{
  "nbformat": 4,
  "nbformat_minor": 0,
  "metadata": {
    "colab": {
      "provenance": [],
      "authorship_tag": "ABX9TyP6wvWoyhLMVx5i1aVCKAZz",
      "include_colab_link": true
    },
    "kernelspec": {
      "name": "python3",
      "display_name": "Python 3"
    },
    "language_info": {
      "name": "python"
    }
  },
  "cells": [
    {
      "cell_type": "markdown",
      "metadata": {
        "id": "view-in-github",
        "colab_type": "text"
      },
      "source": [
        "<a href=\"https://colab.research.google.com/github/CooperMc41/Class-BTE-320/blob/main/In_Class_Assignments.ipynb\" target=\"_parent\"><img src=\"https://colab.research.google.com/assets/colab-badge.svg\" alt=\"Open In Colab\"/></a>"
      ]
    },
    {
      "cell_type": "code",
      "execution_count": null,
      "metadata": {
        "colab": {
          "base_uri": "https://localhost:8080/"
        },
        "id": "KOZ9dAyvpFab",
        "outputId": "1a184e17-caa3-4fbc-e760-aea26c73b597"
      },
      "outputs": [
        {
          "output_type": "stream",
          "name": "stdout",
          "text": [
            "Please provide radius: 5\n",
            "Please provide height: 10\n",
            "Please provide units: sq. ft\n",
            "Area =  471.0 sq. ft\n"
          ]
        },
        {
          "output_type": "execute_result",
          "data": {
            "text/plain": [
              "float"
            ]
          },
          "metadata": {},
          "execution_count": 15
        }
      ],
      "source": [
        "Pi = 3.14\n",
        "r = float(input(\"Please provide radius: \"))\n",
        "h = float(input(\"Please provide height: \"))\n",
        "units = str(input(\"Please provide units: \"))\n",
        "A = 2*Pi*r ** 2 + 2*Pi*r*h\n",
        "print(\"Area = \",A, units)\n",
        "type(A)"
      ]
    },
    {
      "cell_type": "code",
      "source": [
        "Number1 = float(input(\"Please input your 1st number: \"))\n",
        "Number2 = float(input(\"Please input your second number: \"))\n",
        "Symbol = input(\"Please input the symbol: \")\n",
        "\n",
        "if Symbol == \"+\":\n",
        "  print(Number1 + Number2)\n",
        "elif Symbol == \"-\":\n",
        "  print(Number1 - Number2)\n",
        "elif Symbol == \"*\":\n",
        "  print(Number1 * Number2)\n",
        "elif Symbol == \"/\":\n",
        "  print(Number1 / Number2)\n",
        "elif Symbol == \"//\":\n",
        "  print(Number1 // Number2)\n",
        "elif Symbol == \"**\":\n",
        "  print(Number1 ** Number2)\n",
        "elif Symbol == \"%\":\n",
        "  print(Number1 % Number2)\n",
        "else:\n",
        "  print(\"Invalid symbol input.\")"
      ],
      "metadata": {
        "colab": {
          "base_uri": "https://localhost:8080/"
        },
        "id": "v7d-2rIur1qw",
        "outputId": "31e2e57b-52b0-4dd8-badf-06515bc9062c"
      },
      "execution_count": null,
      "outputs": [
        {
          "output_type": "stream",
          "name": "stdout",
          "text": [
            "Please input your 1st number: 20\n",
            "Please input your second number: 10\n",
            "Please input the symbol: )(\n",
            "Invalid symbol input.\n"
          ]
        }
      ]
    },
    {
      "cell_type": "markdown",
      "source": [],
      "metadata": {
        "id": "NRK9td9sZExT"
      }
    },
    {
      "cell_type": "code",
      "source": [
        "print(\"Welcome to the Parking Garage. No Cars over 2.5 meters tall.\")\n",
        "print(\"Please input your credit card. There is a minimum fee of $10.\")\n",
        "print(\"These are the charges you may incur: \")\n",
        "\n",
        "for Hours in range(1, 9):\n",
        "  charge = 5 + 2.5 * Hours\n",
        "  if charge < 10:\n",
        "    charge = 10.0\n",
        "  elif charge > 20:\n",
        "    charge = 20.0\n",
        "  print(Hours,\"Hrs.\", \"$\",charge)\n",
        "\n",
        "Hours = float(input(\"Please input amount of ours parked: \"))\n",
        "\n",
        "charge = 5 + 2.5 * Hours\n",
        "minFee = 10\n",
        "maxFee = 20\n",
        "\n",
        "if Hours >= 7:\n",
        "  print(\"Your fee is $\",maxFee)\n",
        "elif Hours >= 2:\n",
        "  print(\"Your fee is $\",charge)\n",
        "elif Hours == 1:\n",
        "  print(\"Your fee is $\",minFee)"
      ],
      "metadata": {
        "id": "vy7kC41QZYiE",
        "colab": {
          "base_uri": "https://localhost:8080/"
        },
        "outputId": "2a840cf7-f3ed-45f2-c29d-69dc0d381816"
      },
      "execution_count": 13,
      "outputs": [
        {
          "output_type": "stream",
          "name": "stdout",
          "text": [
            "Welcome to the Parking Garage. No Cars over 2.5 meters tall.\n",
            "Please input your credit card. There is a minimum fee of $10.\n",
            "These are the charges you may incur: \n",
            "1 Hrs. $ 10.0\n",
            "2 Hrs. $ 10.0\n",
            "3 Hrs. $ 12.5\n",
            "4 Hrs. $ 15.0\n",
            "5 Hrs. $ 17.5\n",
            "6 Hrs. $ 20.0\n",
            "7 Hrs. $ 20.0\n",
            "8 Hrs. $ 20.0\n",
            "Please input amount of ours parked: 10\n",
            "Your fee is $ 20\n"
          ]
        }
      ]
    },
    {
      "cell_type": "code",
      "source": [
        "print(\"Hello. These will be the profit numbers given the amount of advertising spending we are doing.\")\n",
        "print(\"Ad$\", \"Profit\")\n",
        "for Ad in range(0, 225, 25):\n",
        "  prOfit = (20 + 2 * round(Ad ** 0.5))*10 -200 - Ad\n",
        "  print(\"$\",Ad, \"$\",prOfit)"
      ],
      "metadata": {
        "colab": {
          "base_uri": "https://localhost:8080/"
        },
        "id": "IHsaWDZtKpHd",
        "outputId": "fefebb72-27d2-486b-ef2a-b34e0f43d477"
      },
      "execution_count": 12,
      "outputs": [
        {
          "output_type": "stream",
          "name": "stdout",
          "text": [
            "Hello. These will be the profit numbers given the amount of advertising spending we are doing.\n",
            "Ad$ Profit\n",
            "$ 0 $ 0\n",
            "$ 25 $ 75\n",
            "$ 50 $ 90\n",
            "$ 75 $ 105\n",
            "$ 100 $ 100\n",
            "$ 125 $ 95\n",
            "$ 150 $ 90\n",
            "$ 175 $ 85\n",
            "$ 200 $ 80\n"
          ]
        }
      ]
    },
    {
      "cell_type": "code",
      "source": [
        "gaMe = input(\"This game is rock, paper, scissors. Would you like to play: \")\n",
        "\n",
        "while gaMe == \"Yes\":\n",
        "  plaYer1 = input(\"Please input your move, Player 1: \")\n",
        "  plaYer2 = input(\"Please input your move, Player 2: \")\n",
        "\n",
        "  if plaYer1 == plaYer2:\n",
        "    print(\"Its a tie!\")\n",
        "  elif plaYer1 == \"Rock\" and plaYer2 == \"Scissors\" or plaYer1 == \"Scissors\" and plaYer2 == \"Paper\" or plaYer1 == \"Paper\" and plaYer2 == \"Rock\":\n",
        "    print(\"Player 1 wins!\")\n",
        "  else:\n",
        "    print(\"Player 2 wins!\")\n",
        "\n",
        "  gaMe = input(\"This game is rock, paper, scissors. Would you like to play: \")\n",
        "print(\"Goodbye!\")"
      ],
      "metadata": {
        "colab": {
          "base_uri": "https://localhost:8080/",
          "height": 382
        },
        "id": "Dp1eMaFDOxu3",
        "outputId": "9600e0aa-527d-4058-e8ce-bfdbd94ecf26"
      },
      "execution_count": 29,
      "outputs": [
        {
          "name": "stdout",
          "output_type": "stream",
          "text": [
            "This game is rock, paper, scissors. Would you like to play: yes\n"
          ]
        },
        {
          "output_type": "error",
          "ename": "KeyboardInterrupt",
          "evalue": "Interrupted by user",
          "traceback": [
            "\u001b[0;31m---------------------------------------------------------------------------\u001b[0m",
            "\u001b[0;31mKeyboardInterrupt\u001b[0m                         Traceback (most recent call last)",
            "\u001b[0;32m<ipython-input-29-1eea25ea40c2>\u001b[0m in \u001b[0;36m<cell line: 0>\u001b[0;34m()\u001b[0m\n\u001b[1;32m      2\u001b[0m \u001b[0;34m\u001b[0m\u001b[0m\n\u001b[1;32m      3\u001b[0m \u001b[0;32mwhile\u001b[0m \u001b[0mgaMe\u001b[0m \u001b[0;34m==\u001b[0m \u001b[0;34m\"Yes\"\u001b[0m \u001b[0;32mor\u001b[0m \u001b[0;34m\"yes\"\u001b[0m\u001b[0;34m:\u001b[0m\u001b[0;34m\u001b[0m\u001b[0;34m\u001b[0m\u001b[0m\n\u001b[0;32m----> 4\u001b[0;31m   \u001b[0mplaYer1\u001b[0m \u001b[0;34m=\u001b[0m \u001b[0minput\u001b[0m\u001b[0;34m(\u001b[0m\u001b[0;34m\"Please input your move, Player 1: \"\u001b[0m\u001b[0;34m)\u001b[0m\u001b[0;34m\u001b[0m\u001b[0;34m\u001b[0m\u001b[0m\n\u001b[0m\u001b[1;32m      5\u001b[0m   \u001b[0mplaYer2\u001b[0m \u001b[0;34m=\u001b[0m \u001b[0minput\u001b[0m\u001b[0;34m(\u001b[0m\u001b[0;34m\"Please input your move, Player 2: \"\u001b[0m\u001b[0;34m)\u001b[0m\u001b[0;34m\u001b[0m\u001b[0;34m\u001b[0m\u001b[0m\n\u001b[1;32m      6\u001b[0m \u001b[0;34m\u001b[0m\u001b[0m\n",
            "\u001b[0;32m/usr/local/lib/python3.11/dist-packages/ipykernel/kernelbase.py\u001b[0m in \u001b[0;36mraw_input\u001b[0;34m(self, prompt)\u001b[0m\n\u001b[1;32m    849\u001b[0m                 \u001b[0;34m\"raw_input was called, but this frontend does not support input requests.\"\u001b[0m\u001b[0;34m\u001b[0m\u001b[0;34m\u001b[0m\u001b[0m\n\u001b[1;32m    850\u001b[0m             )\n\u001b[0;32m--> 851\u001b[0;31m         return self._input_request(str(prompt),\n\u001b[0m\u001b[1;32m    852\u001b[0m             \u001b[0mself\u001b[0m\u001b[0;34m.\u001b[0m\u001b[0m_parent_ident\u001b[0m\u001b[0;34m,\u001b[0m\u001b[0;34m\u001b[0m\u001b[0;34m\u001b[0m\u001b[0m\n\u001b[1;32m    853\u001b[0m             \u001b[0mself\u001b[0m\u001b[0;34m.\u001b[0m\u001b[0m_parent_header\u001b[0m\u001b[0;34m,\u001b[0m\u001b[0;34m\u001b[0m\u001b[0;34m\u001b[0m\u001b[0m\n",
            "\u001b[0;32m/usr/local/lib/python3.11/dist-packages/ipykernel/kernelbase.py\u001b[0m in \u001b[0;36m_input_request\u001b[0;34m(self, prompt, ident, parent, password)\u001b[0m\n\u001b[1;32m    893\u001b[0m             \u001b[0;32mexcept\u001b[0m \u001b[0mKeyboardInterrupt\u001b[0m\u001b[0;34m:\u001b[0m\u001b[0;34m\u001b[0m\u001b[0;34m\u001b[0m\u001b[0m\n\u001b[1;32m    894\u001b[0m                 \u001b[0;31m# re-raise KeyboardInterrupt, to truncate traceback\u001b[0m\u001b[0;34m\u001b[0m\u001b[0;34m\u001b[0m\u001b[0m\n\u001b[0;32m--> 895\u001b[0;31m                 \u001b[0;32mraise\u001b[0m \u001b[0mKeyboardInterrupt\u001b[0m\u001b[0;34m(\u001b[0m\u001b[0;34m\"Interrupted by user\"\u001b[0m\u001b[0;34m)\u001b[0m \u001b[0;32mfrom\u001b[0m \u001b[0;32mNone\u001b[0m\u001b[0;34m\u001b[0m\u001b[0;34m\u001b[0m\u001b[0m\n\u001b[0m\u001b[1;32m    896\u001b[0m             \u001b[0;32mexcept\u001b[0m \u001b[0mException\u001b[0m \u001b[0;32mas\u001b[0m \u001b[0me\u001b[0m\u001b[0;34m:\u001b[0m\u001b[0;34m\u001b[0m\u001b[0;34m\u001b[0m\u001b[0m\n\u001b[1;32m    897\u001b[0m                 \u001b[0mself\u001b[0m\u001b[0;34m.\u001b[0m\u001b[0mlog\u001b[0m\u001b[0;34m.\u001b[0m\u001b[0mwarning\u001b[0m\u001b[0;34m(\u001b[0m\u001b[0;34m\"Invalid Message:\"\u001b[0m\u001b[0;34m,\u001b[0m \u001b[0mexc_info\u001b[0m\u001b[0;34m=\u001b[0m\u001b[0;32mTrue\u001b[0m\u001b[0;34m)\u001b[0m\u001b[0;34m\u001b[0m\u001b[0;34m\u001b[0m\u001b[0m\n",
            "\u001b[0;31mKeyboardInterrupt\u001b[0m: Interrupted by user"
          ]
        }
      ]
    },
    {
      "cell_type": "code",
      "source": [
        "import random\n",
        "\n",
        "gaMe = input(\"This game is rock, paper, scissors. Would you like to play: \").capitalize()\n",
        "\n",
        "while gaMe == \"Yes\":\n",
        "  plaYer1 = input(\"Please input your move, Player 1: \").capitalize()\n",
        "  plaYer2 = random.choice([\"Rock\", \"Paper\", \"Scissors\"]).capitalize()\n",
        "\n",
        "  if plaYer1 == plaYer2:\n",
        "    print(\"Its a tie!\")\n",
        "  elif plaYer1 == \"Rock\" and plaYer2 == \"Scissors\" or plaYer1 == \"Scissors\" and plaYer2 == \"Paper\" or plaYer1 == \"Paper\" and plaYer2 == \"Rock\":\n",
        "    print(\"Player 1 wins!\")\n",
        "  else:\n",
        "    print(\"Player 2 wins!\")\n",
        "\n",
        "  gaMe = input(\"This game is rock, paper, scissors. Would you like to play: \").capitalize()\n",
        "print(\"Goodbye!\")"
      ],
      "metadata": {
        "colab": {
          "base_uri": "https://localhost:8080/"
        },
        "id": "JaQ5xu_bRTf8",
        "outputId": "c8ae9168-c5a5-475a-ccb5-ca2e9408dcc1"
      },
      "execution_count": null,
      "outputs": [
        {
          "metadata": {
            "tags": null
          },
          "name": "stdout",
          "output_type": "stream",
          "text": [
            "Player 1 wins!\n"
          ]
        }
      ]
    }
  ]
}